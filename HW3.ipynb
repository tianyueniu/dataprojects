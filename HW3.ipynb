{
 "cells": [
  {
   "cell_type": "markdown",
   "metadata": {},
   "source": [
    "### Homework 3: Linear Model Selection and Regularization\n",
    "Tianyue Niu"
   ]
  },
  {
   "cell_type": "code",
   "execution_count": 1,
   "metadata": {},
   "outputs": [],
   "source": [
    "import random\n",
    "import numpy as np\n",
    "import pandas as pd\n",
    "import seaborn as sb\n",
    "import matplotlib.pyplot as plt\n",
    "from sklearn.model_selection import train_test_split\n",
    "from sklearn.linear_model import LinearRegression, RidgeCV, LassoCV, ElasticNetCV\n",
    "from sklearn.metrics import mean_squared_error\n",
    "from mlxtend.feature_selection import SequentialFeatureSelector as sfs\n",
    "import statsmodels.api as sm\n",
    "import itertools"
   ]
  },
  {
   "cell_type": "markdown",
   "metadata": {},
   "source": [
    "#### Conceptual Exercises"
   ]
  },
  {
   "cell_type": "markdown",
   "metadata": {},
   "source": [
    "1. (5 points) Generate a data set with p = 20 features, n = 1000 observations, and an associated quantitative response vector generated according to the model Y =Xβ+ε where β has some elements that are exactly equal to zero."
   ]
  },
  {
   "cell_type": "code",
   "execution_count": 2,
   "metadata": {},
   "outputs": [],
   "source": [
    "#set random seed\n",
    "np.random.seed(888)\n",
    "\n",
    "#generate the data\n",
    "df = pd.DataFrame() #create pandas data frame\n",
    "df['Y'] = 0\n",
    "\n",
    "#simulate beta (drawn from normal distribution, mu/sigma = a random int from 0 to 10)\n",
    "beta = np.random.normal(np.random.randint(10), np.random.randint(10), 20)\n",
    "beta = beta.tolist()\n",
    "\n",
    "#get some random zeros in the betas\n",
    "beta[5]=0\n",
    "beta[10]=0\n",
    "beta[12]=0\n",
    "beta[17]=0\n",
    "\n",
    "\n",
    "#simulate X and update Y (drawn from normal distribution, mu/sigma = a random int from 0 to 10)\n",
    "for i in range(20):\n",
    "    X = np.random.normal(np.random.randint(10), np.random.randint(10), 1000)\n",
    "    column = \"X{}\".format(i+1)\n",
    "    df[column] = X\n",
    "    Y = X * beta[i]\n",
    "    if i == 0:\n",
    "        df['Y'] = Y\n",
    "    else:\n",
    "        df['Y'] = df['Y']+Y\n",
    "\n",
    "#simulate error term (drawn from normal distribution, mu/sigma = a random int from 0 to 10)\n",
    "error = np.random.normal(0, np.random.randint(10), 1000)\n",
    "df['error'] = error\n",
    "\n",
    "#add error term to Y\n",
    "df['Y'] = df['Y'] + df['error']"
   ]
  },
  {
   "cell_type": "code",
   "execution_count": 3,
   "metadata": {},
   "outputs": [
    {
     "data": {
      "text/html": [
       "<div>\n",
       "<style scoped>\n",
       "    .dataframe tbody tr th:only-of-type {\n",
       "        vertical-align: middle;\n",
       "    }\n",
       "\n",
       "    .dataframe tbody tr th {\n",
       "        vertical-align: top;\n",
       "    }\n",
       "\n",
       "    .dataframe thead th {\n",
       "        text-align: right;\n",
       "    }\n",
       "</style>\n",
       "<table border=\"1\" class=\"dataframe\">\n",
       "  <thead>\n",
       "    <tr style=\"text-align: right;\">\n",
       "      <th></th>\n",
       "      <th>Y</th>\n",
       "      <th>X1</th>\n",
       "      <th>X2</th>\n",
       "      <th>X3</th>\n",
       "      <th>X4</th>\n",
       "      <th>X5</th>\n",
       "      <th>X6</th>\n",
       "      <th>X7</th>\n",
       "      <th>X8</th>\n",
       "      <th>X9</th>\n",
       "      <th>...</th>\n",
       "      <th>X12</th>\n",
       "      <th>X13</th>\n",
       "      <th>X14</th>\n",
       "      <th>X15</th>\n",
       "      <th>X16</th>\n",
       "      <th>X17</th>\n",
       "      <th>X18</th>\n",
       "      <th>X19</th>\n",
       "      <th>X20</th>\n",
       "      <th>error</th>\n",
       "    </tr>\n",
       "  </thead>\n",
       "  <tbody>\n",
       "    <tr>\n",
       "      <th>0</th>\n",
       "      <td>246.747711</td>\n",
       "      <td>-3.899263</td>\n",
       "      <td>16.696821</td>\n",
       "      <td>4.975336</td>\n",
       "      <td>0.797611</td>\n",
       "      <td>6.861231</td>\n",
       "      <td>2.992552</td>\n",
       "      <td>1.398557</td>\n",
       "      <td>6.963234</td>\n",
       "      <td>23.858665</td>\n",
       "      <td>...</td>\n",
       "      <td>-5.193007</td>\n",
       "      <td>9.0</td>\n",
       "      <td>7.567973</td>\n",
       "      <td>-7.619351</td>\n",
       "      <td>6.317549</td>\n",
       "      <td>7.277377</td>\n",
       "      <td>11.096196</td>\n",
       "      <td>0.830874</td>\n",
       "      <td>-9.255737</td>\n",
       "      <td>1.654127</td>\n",
       "    </tr>\n",
       "    <tr>\n",
       "      <th>1</th>\n",
       "      <td>543.463296</td>\n",
       "      <td>-3.961610</td>\n",
       "      <td>10.146065</td>\n",
       "      <td>5.224739</td>\n",
       "      <td>3.348549</td>\n",
       "      <td>12.891143</td>\n",
       "      <td>3.510391</td>\n",
       "      <td>0.715523</td>\n",
       "      <td>11.973041</td>\n",
       "      <td>1.523750</td>\n",
       "      <td>...</td>\n",
       "      <td>8.415727</td>\n",
       "      <td>9.0</td>\n",
       "      <td>6.166661</td>\n",
       "      <td>5.471839</td>\n",
       "      <td>4.952937</td>\n",
       "      <td>-0.059301</td>\n",
       "      <td>-2.534008</td>\n",
       "      <td>-1.475291</td>\n",
       "      <td>2.407758</td>\n",
       "      <td>-0.170649</td>\n",
       "    </tr>\n",
       "    <tr>\n",
       "      <th>2</th>\n",
       "      <td>543.482597</td>\n",
       "      <td>-2.479828</td>\n",
       "      <td>27.161215</td>\n",
       "      <td>10.797048</td>\n",
       "      <td>2.647927</td>\n",
       "      <td>8.592427</td>\n",
       "      <td>4.396021</td>\n",
       "      <td>1.579931</td>\n",
       "      <td>6.337978</td>\n",
       "      <td>5.717468</td>\n",
       "      <td>...</td>\n",
       "      <td>9.331063</td>\n",
       "      <td>9.0</td>\n",
       "      <td>7.943897</td>\n",
       "      <td>-1.062119</td>\n",
       "      <td>5.509789</td>\n",
       "      <td>7.416610</td>\n",
       "      <td>-0.609956</td>\n",
       "      <td>3.428818</td>\n",
       "      <td>0.967375</td>\n",
       "      <td>4.513860</td>\n",
       "    </tr>\n",
       "    <tr>\n",
       "      <th>3</th>\n",
       "      <td>626.044198</td>\n",
       "      <td>-0.624174</td>\n",
       "      <td>16.328068</td>\n",
       "      <td>7.126836</td>\n",
       "      <td>2.536630</td>\n",
       "      <td>8.634739</td>\n",
       "      <td>6.285267</td>\n",
       "      <td>-0.127068</td>\n",
       "      <td>9.542362</td>\n",
       "      <td>8.006732</td>\n",
       "      <td>...</td>\n",
       "      <td>3.973965</td>\n",
       "      <td>9.0</td>\n",
       "      <td>14.925661</td>\n",
       "      <td>1.975931</td>\n",
       "      <td>6.617723</td>\n",
       "      <td>9.423327</td>\n",
       "      <td>7.921454</td>\n",
       "      <td>-0.840835</td>\n",
       "      <td>4.415255</td>\n",
       "      <td>1.896135</td>\n",
       "    </tr>\n",
       "    <tr>\n",
       "      <th>4</th>\n",
       "      <td>470.336713</td>\n",
       "      <td>1.565751</td>\n",
       "      <td>7.251556</td>\n",
       "      <td>9.708258</td>\n",
       "      <td>0.338604</td>\n",
       "      <td>16.346296</td>\n",
       "      <td>7.429801</td>\n",
       "      <td>-0.838364</td>\n",
       "      <td>6.756570</td>\n",
       "      <td>6.365279</td>\n",
       "      <td>...</td>\n",
       "      <td>6.008270</td>\n",
       "      <td>9.0</td>\n",
       "      <td>10.692814</td>\n",
       "      <td>-5.418476</td>\n",
       "      <td>6.465313</td>\n",
       "      <td>14.485206</td>\n",
       "      <td>-6.167487</td>\n",
       "      <td>4.538094</td>\n",
       "      <td>-6.768998</td>\n",
       "      <td>10.903834</td>\n",
       "    </tr>\n",
       "    <tr>\n",
       "      <th>5</th>\n",
       "      <td>621.002445</td>\n",
       "      <td>-3.803680</td>\n",
       "      <td>13.885611</td>\n",
       "      <td>7.986706</td>\n",
       "      <td>-0.390849</td>\n",
       "      <td>3.434973</td>\n",
       "      <td>8.874751</td>\n",
       "      <td>-2.577973</td>\n",
       "      <td>10.593255</td>\n",
       "      <td>7.273992</td>\n",
       "      <td>...</td>\n",
       "      <td>3.427828</td>\n",
       "      <td>9.0</td>\n",
       "      <td>9.022258</td>\n",
       "      <td>14.723468</td>\n",
       "      <td>5.641200</td>\n",
       "      <td>12.525967</td>\n",
       "      <td>0.808051</td>\n",
       "      <td>0.615897</td>\n",
       "      <td>13.741705</td>\n",
       "      <td>2.908311</td>\n",
       "    </tr>\n",
       "    <tr>\n",
       "      <th>6</th>\n",
       "      <td>414.532263</td>\n",
       "      <td>-0.622173</td>\n",
       "      <td>28.512731</td>\n",
       "      <td>10.281089</td>\n",
       "      <td>3.727853</td>\n",
       "      <td>-4.681738</td>\n",
       "      <td>0.570212</td>\n",
       "      <td>0.167307</td>\n",
       "      <td>8.156818</td>\n",
       "      <td>7.580487</td>\n",
       "      <td>...</td>\n",
       "      <td>5.854213</td>\n",
       "      <td>9.0</td>\n",
       "      <td>7.809580</td>\n",
       "      <td>4.225993</td>\n",
       "      <td>5.024250</td>\n",
       "      <td>-0.470498</td>\n",
       "      <td>5.079171</td>\n",
       "      <td>2.785594</td>\n",
       "      <td>-5.735738</td>\n",
       "      <td>0.930112</td>\n",
       "    </tr>\n",
       "    <tr>\n",
       "      <th>7</th>\n",
       "      <td>397.964396</td>\n",
       "      <td>1.868296</td>\n",
       "      <td>1.887677</td>\n",
       "      <td>4.738699</td>\n",
       "      <td>-2.238448</td>\n",
       "      <td>9.598617</td>\n",
       "      <td>-5.525364</td>\n",
       "      <td>-0.581697</td>\n",
       "      <td>11.595701</td>\n",
       "      <td>16.062791</td>\n",
       "      <td>...</td>\n",
       "      <td>5.788965</td>\n",
       "      <td>9.0</td>\n",
       "      <td>6.945622</td>\n",
       "      <td>-14.913019</td>\n",
       "      <td>5.726769</td>\n",
       "      <td>5.261565</td>\n",
       "      <td>3.487462</td>\n",
       "      <td>-0.594030</td>\n",
       "      <td>10.009866</td>\n",
       "      <td>5.720803</td>\n",
       "    </tr>\n",
       "    <tr>\n",
       "      <th>8</th>\n",
       "      <td>363.847561</td>\n",
       "      <td>-0.685615</td>\n",
       "      <td>5.193803</td>\n",
       "      <td>5.662380</td>\n",
       "      <td>-0.869027</td>\n",
       "      <td>4.155906</td>\n",
       "      <td>-4.047810</td>\n",
       "      <td>1.159368</td>\n",
       "      <td>7.683500</td>\n",
       "      <td>-10.586342</td>\n",
       "      <td>...</td>\n",
       "      <td>-0.122964</td>\n",
       "      <td>9.0</td>\n",
       "      <td>3.687317</td>\n",
       "      <td>9.955270</td>\n",
       "      <td>5.980294</td>\n",
       "      <td>3.534371</td>\n",
       "      <td>1.893686</td>\n",
       "      <td>1.491292</td>\n",
       "      <td>-2.202277</td>\n",
       "      <td>2.471764</td>\n",
       "    </tr>\n",
       "    <tr>\n",
       "      <th>9</th>\n",
       "      <td>210.322755</td>\n",
       "      <td>2.471869</td>\n",
       "      <td>11.999986</td>\n",
       "      <td>8.310086</td>\n",
       "      <td>-1.600441</td>\n",
       "      <td>-0.783752</td>\n",
       "      <td>-8.009199</td>\n",
       "      <td>0.669494</td>\n",
       "      <td>8.561108</td>\n",
       "      <td>-3.080946</td>\n",
       "      <td>...</td>\n",
       "      <td>3.419022</td>\n",
       "      <td>9.0</td>\n",
       "      <td>3.392745</td>\n",
       "      <td>8.407846</td>\n",
       "      <td>5.546805</td>\n",
       "      <td>6.001722</td>\n",
       "      <td>0.180339</td>\n",
       "      <td>-0.063491</td>\n",
       "      <td>-5.210165</td>\n",
       "      <td>-3.454199</td>\n",
       "    </tr>\n",
       "  </tbody>\n",
       "</table>\n",
       "<p>10 rows × 22 columns</p>\n",
       "</div>"
      ],
      "text/plain": [
       "            Y        X1         X2         X3        X4         X5        X6  \\\n",
       "0  246.747711 -3.899263  16.696821   4.975336  0.797611   6.861231  2.992552   \n",
       "1  543.463296 -3.961610  10.146065   5.224739  3.348549  12.891143  3.510391   \n",
       "2  543.482597 -2.479828  27.161215  10.797048  2.647927   8.592427  4.396021   \n",
       "3  626.044198 -0.624174  16.328068   7.126836  2.536630   8.634739  6.285267   \n",
       "4  470.336713  1.565751   7.251556   9.708258  0.338604  16.346296  7.429801   \n",
       "5  621.002445 -3.803680  13.885611   7.986706 -0.390849   3.434973  8.874751   \n",
       "6  414.532263 -0.622173  28.512731  10.281089  3.727853  -4.681738  0.570212   \n",
       "7  397.964396  1.868296   1.887677   4.738699 -2.238448   9.598617 -5.525364   \n",
       "8  363.847561 -0.685615   5.193803   5.662380 -0.869027   4.155906 -4.047810   \n",
       "9  210.322755  2.471869  11.999986   8.310086 -1.600441  -0.783752 -8.009199   \n",
       "\n",
       "         X7         X8         X9  ...       X12  X13        X14        X15  \\\n",
       "0  1.398557   6.963234  23.858665  ... -5.193007  9.0   7.567973  -7.619351   \n",
       "1  0.715523  11.973041   1.523750  ...  8.415727  9.0   6.166661   5.471839   \n",
       "2  1.579931   6.337978   5.717468  ...  9.331063  9.0   7.943897  -1.062119   \n",
       "3 -0.127068   9.542362   8.006732  ...  3.973965  9.0  14.925661   1.975931   \n",
       "4 -0.838364   6.756570   6.365279  ...  6.008270  9.0  10.692814  -5.418476   \n",
       "5 -2.577973  10.593255   7.273992  ...  3.427828  9.0   9.022258  14.723468   \n",
       "6  0.167307   8.156818   7.580487  ...  5.854213  9.0   7.809580   4.225993   \n",
       "7 -0.581697  11.595701  16.062791  ...  5.788965  9.0   6.945622 -14.913019   \n",
       "8  1.159368   7.683500 -10.586342  ... -0.122964  9.0   3.687317   9.955270   \n",
       "9  0.669494   8.561108  -3.080946  ...  3.419022  9.0   3.392745   8.407846   \n",
       "\n",
       "        X16        X17        X18       X19        X20      error  \n",
       "0  6.317549   7.277377  11.096196  0.830874  -9.255737   1.654127  \n",
       "1  4.952937  -0.059301  -2.534008 -1.475291   2.407758  -0.170649  \n",
       "2  5.509789   7.416610  -0.609956  3.428818   0.967375   4.513860  \n",
       "3  6.617723   9.423327   7.921454 -0.840835   4.415255   1.896135  \n",
       "4  6.465313  14.485206  -6.167487  4.538094  -6.768998  10.903834  \n",
       "5  5.641200  12.525967   0.808051  0.615897  13.741705   2.908311  \n",
       "6  5.024250  -0.470498   5.079171  2.785594  -5.735738   0.930112  \n",
       "7  5.726769   5.261565   3.487462 -0.594030  10.009866   5.720803  \n",
       "8  5.980294   3.534371   1.893686  1.491292  -2.202277   2.471764  \n",
       "9  5.546805   6.001722   0.180339 -0.063491  -5.210165  -3.454199  \n",
       "\n",
       "[10 rows x 22 columns]"
      ]
     },
     "execution_count": 3,
     "metadata": {},
     "output_type": "execute_result"
    }
   ],
   "source": [
    "df.head(10)"
   ]
  },
  {
   "cell_type": "markdown",
   "metadata": {},
   "source": [
    "2. (10 points) Split your data set into a training set containing 100 observations and a test set containing 900 observations."
   ]
  },
  {
   "cell_type": "code",
   "execution_count": 4,
   "metadata": {},
   "outputs": [],
   "source": [
    "Xs = [\"X{}\".format(i+1) for i in range(20)]\n",
    "predictors = df[Xs]\n",
    "response = df['Y']"
   ]
  },
  {
   "cell_type": "markdown",
   "metadata": {},
   "source": [
    "3. (10 points) Perform best subset selection on the training set, and plot the training set MSE associated with the best model of each size. For which model size does the training set MSE take on its minimum value?"
   ]
  },
  {
   "cell_type": "code",
   "execution_count": 5,
   "metadata": {},
   "outputs": [],
   "source": [
    "ks = list(range(1,5)) \n",
    "#Testing best subset code using k = 1,2,3,4\n",
    "#because larger ks exceeds my computer's computing power.\n",
    "#I've also tried running the code on RCC,\n",
    "#but it never finished running in a reasonable time (1hr).\n",
    "\n",
    "def best_subset_selection (xtrain, xtest, ytrain, ytest, predictors, response, k, train):\n",
    "\n",
    "    Xs = None\n",
    "    best_mse = 100000000\n",
    "    for each in itertools.combinations(xtrain, k):\n",
    "        lm = LinearRegression().fit(xtrain[list(each)],ytrain)\n",
    "        \n",
    "        if train:\n",
    "            ypred = lm.predict(xtrain[list(each)])\n",
    "            mse = mean_squared_error(ytrain, ypred)\n",
    "            if mse < best_mse:\n",
    "                best_mse = mse\n",
    "                Xs = list(each)\n",
    "            \n",
    "        else:\n",
    "            ypred = lm.predict(xtest[list(each)])\n",
    "            mse = mean_squared_error(ytest, ypred)\n",
    "            if mse < best_mse:\n",
    "                best_mse = mse\n",
    "                Xs = list(each)\n",
    "                \n",
    "    return Xs, best_mse\n",
    "\n",
    "def get_best_mse (xtrain, xtest, ytrain, ytest, predictors, response, ks, train):\n",
    "    res = []\n",
    "    for k in ks:\n",
    "        res.append(best_subset_selection(xtrain, xtest, ytrain, \n",
    "                                         ytest, predictors, response, k, train))\n",
    "    return res"
   ]
  },
  {
   "cell_type": "code",
   "execution_count": 6,
   "metadata": {},
   "outputs": [],
   "source": [
    "xtrain, xtest, ytrain, ytest = train_test_split(predictors, response, test_size=0.9)"
   ]
  },
  {
   "cell_type": "code",
   "execution_count": 7,
   "metadata": {},
   "outputs": [
    {
     "data": {
      "text/plain": [
       "[(['X2'], 11159.625752852653),\n",
       " (['X2', 'X20'], 8751.187400374904),\n",
       " (['X2', 'X10', 'X20'], 6541.850827882004),\n",
       " (['X2', 'X10', 'X15', 'X20'], 3742.090058278381)]"
      ]
     },
     "execution_count": 7,
     "metadata": {},
     "output_type": "execute_result"
    }
   ],
   "source": [
    "mses = get_best_mse(xtrain, xtest, ytrain, ytest, predictors, response, ks, train=True)\n",
    "mses #MSE monotonically decreases"
   ]
  },
  {
   "cell_type": "code",
   "execution_count": 8,
   "metadata": {},
   "outputs": [],
   "source": [
    "mses = pd.DataFrame(mses, columns=['predictors', 'mse'])\n",
    "mses['predictors'] = mses['predictors'].astype(str)"
   ]
  },
  {
   "cell_type": "code",
   "execution_count": 9,
   "metadata": {},
   "outputs": [
    {
     "data": {
      "image/png": "[encoded data removed]",
      "text/plain": [
       "<Figure size 720x360 with 1 Axes>"
      ]
     },
     "metadata": {
      "needs_background": "light"
     },
     "output_type": "display_data"
    }
   ],
   "source": [
    "plt.figure(figsize=(10,5))\n",
    "sb.scatterplot(x='predictors',y='mse',data=mses)\n",
    "plt.title('Training error with different number of predictors');"
   ]
  },
  {
   "cell_type": "markdown",
   "metadata": {},
   "source": [
    "The code works, but I'm unable to run 20 choose k ($2^{20}$) using my computer/RCC. \n",
    "The following questions use forward selection because given that our Xs were randomly drawn from a normal distribution, they should work the same."
   ]
  },
  {
   "cell_type": "code",
   "execution_count": 10,
   "metadata": {},
   "outputs": [],
   "source": [
    "def forward_select(xtrain, ytrain, xtest, ytest):\n",
    "    \n",
    "    res = []\n",
    "    models = []\n",
    "    for k in range (1,21):\n",
    "        lm = LinearRegression()\n",
    "        subset = sfs(lm, k_features=k, forward=True, \n",
    "                    scoring ='neg_mean_squared_error', cv=0)\n",
    "        subset.fit(xtrain, ytrain)\n",
    "        lm = lm.fit(xtrain[list(subset.k_feature_names_)], ytrain)\n",
    "        ypred = lm.predict(xtest[list(subset.k_feature_names_)])\n",
    "        test_mse = mean_squared_error(ytest, ypred)\n",
    "        res.append([list(subset.k_feature_names_), -subset.k_score_, test_mse])\n",
    "        models.append(lm)\n",
    "    \n",
    "    return res, models"
   ]
  },
  {
   "cell_type": "code",
   "execution_count": 11,
   "metadata": {},
   "outputs": [],
   "source": [
    "result, models = forward_select(xtrain, ytrain, xtest, ytest)"
   ]
  },
  {
   "cell_type": "code",
   "execution_count": 12,
   "metadata": {},
   "outputs": [
    {
     "data": {
      "text/html": [
       "<div>\n",
       "<style scoped>\n",
       "    .dataframe tbody tr th:only-of-type {\n",
       "        vertical-align: middle;\n",
       "    }\n",
       "\n",
       "    .dataframe tbody tr th {\n",
       "        vertical-align: top;\n",
       "    }\n",
       "\n",
       "    .dataframe thead th {\n",
       "        text-align: right;\n",
       "    }\n",
       "</style>\n",
       "<table border=\"1\" class=\"dataframe\">\n",
       "  <thead>\n",
       "    <tr style=\"text-align: right;\">\n",
       "      <th></th>\n",
       "      <th>predictors</th>\n",
       "      <th>train_mse</th>\n",
       "      <th>test_mse</th>\n",
       "      <th>no_of_preds</th>\n",
       "    </tr>\n",
       "  </thead>\n",
       "  <tbody>\n",
       "    <tr>\n",
       "      <th>0</th>\n",
       "      <td>[X2]</td>\n",
       "      <td>11159.625753</td>\n",
       "      <td>15150.675629</td>\n",
       "      <td>1</td>\n",
       "    </tr>\n",
       "    <tr>\n",
       "      <th>1</th>\n",
       "      <td>[X2, X20]</td>\n",
       "      <td>8751.187400</td>\n",
       "      <td>12751.490581</td>\n",
       "      <td>2</td>\n",
       "    </tr>\n",
       "    <tr>\n",
       "      <th>2</th>\n",
       "      <td>[X2, X10, X20]</td>\n",
       "      <td>6541.850828</td>\n",
       "      <td>9171.981615</td>\n",
       "      <td>3</td>\n",
       "    </tr>\n",
       "    <tr>\n",
       "      <th>3</th>\n",
       "      <td>[X2, X10, X15, X20]</td>\n",
       "      <td>3742.090058</td>\n",
       "      <td>4488.055403</td>\n",
       "      <td>4</td>\n",
       "    </tr>\n",
       "    <tr>\n",
       "      <th>4</th>\n",
       "      <td>[X2, X5, X10, X15, X20]</td>\n",
       "      <td>1888.453248</td>\n",
       "      <td>2243.265235</td>\n",
       "      <td>5</td>\n",
       "    </tr>\n",
       "  </tbody>\n",
       "</table>\n",
       "</div>"
      ],
      "text/plain": [
       "                predictors     train_mse      test_mse  no_of_preds\n",
       "0                     [X2]  11159.625753  15150.675629            1\n",
       "1                [X2, X20]   8751.187400  12751.490581            2\n",
       "2           [X2, X10, X20]   6541.850828   9171.981615            3\n",
       "3      [X2, X10, X15, X20]   3742.090058   4488.055403            4\n",
       "4  [X2, X5, X10, X15, X20]   1888.453248   2243.265235            5"
      ]
     },
     "execution_count": 12,
     "metadata": {},
     "output_type": "execute_result"
    }
   ],
   "source": [
    "best_models = pd.DataFrame(result, columns=['predictors', 'train_mse', 'test_mse'])\n",
    "best_models['no_of_preds'] = range(1,21)\n",
    "best_models.head(5)"
   ]
  },
  {
   "cell_type": "code",
   "execution_count": 13,
   "metadata": {},
   "outputs": [
    {
     "data": {
      "image/png": "[encoded data removed]",
      "text/plain": [
       "<Figure size 720x360 with 1 Axes>"
      ]
     },
     "metadata": {
      "needs_background": "light"
     },
     "output_type": "display_data"
    }
   ],
   "source": [
    "plt.figure(figsize=(10,5))\n",
    "plt.plot(best_models['no_of_preds'],best_models['train_mse'], marker='.', color='green')\n",
    "plt.title('Training error with different number of predictors')\n",
    "plt.xlabel('Number of predictors')\n",
    "plt.ylabel('MSE');"
   ]
  },
  {
   "cell_type": "markdown",
   "metadata": {},
   "source": [
    "4. (5 points) Plot the test set MSE associated with the best model of each size."
   ]
  },
  {
   "cell_type": "code",
   "execution_count": 14,
   "metadata": {},
   "outputs": [
    {
     "data": {
      "image/png": "[encoded data removed]",
      "text/plain": [
       "<Figure size 720x360 with 1 Axes>"
      ]
     },
     "metadata": {
      "needs_background": "light"
     },
     "output_type": "display_data"
    }
   ],
   "source": [
    "plt.figure(figsize=(10,5))\n",
    "plt.plot(best_models['no_of_preds'],best_models['test_mse'], marker='.', color='red')\n",
    "plt.title('Testing error with different number of predictors')\n",
    "plt.xlabel('Number of predictors')\n",
    "plt.ylabel('MSE');"
   ]
  },
  {
   "cell_type": "markdown",
   "metadata": {},
   "source": [
    "5. (5 points) For which model size does the test set MSE take on its minimum value? Comment on your results.  \n",
    "If it takes on its minimum value for a model containing only an intercept or a model containing all of the features, then play around with the way that you generate the data previously until you create a data generating process in which the test set MSE is minimized for an intermediate model size."
   ]
  },
  {
   "cell_type": "code",
   "execution_count": 15,
   "metadata": {},
   "outputs": [
    {
     "data": {
      "text/plain": [
       "40.758948432622034"
      ]
     },
     "execution_count": 15,
     "metadata": {},
     "output_type": "execute_result"
    }
   ],
   "source": [
    "#get min test_mse\n",
    "best_models['test_mse'].min()"
   ]
  },
  {
   "cell_type": "code",
   "execution_count": 16,
   "metadata": {},
   "outputs": [
    {
     "data": {
      "text/html": [
       "<div>\n",
       "<style scoped>\n",
       "    .dataframe tbody tr th:only-of-type {\n",
       "        vertical-align: middle;\n",
       "    }\n",
       "\n",
       "    .dataframe tbody tr th {\n",
       "        vertical-align: top;\n",
       "    }\n",
       "\n",
       "    .dataframe thead th {\n",
       "        text-align: right;\n",
       "    }\n",
       "</style>\n",
       "<table border=\"1\" class=\"dataframe\">\n",
       "  <thead>\n",
       "    <tr style=\"text-align: right;\">\n",
       "      <th></th>\n",
       "      <th>predictors</th>\n",
       "      <th>train_mse</th>\n",
       "      <th>test_mse</th>\n",
       "      <th>no_of_preds</th>\n",
       "    </tr>\n",
       "  </thead>\n",
       "  <tbody>\n",
       "    <tr>\n",
       "      <th>15</th>\n",
       "      <td>[X1, X2, X3, X4, X5, X7, X8, X9, X10, X12, X14...</td>\n",
       "      <td>38.181972</td>\n",
       "      <td>40.758948</td>\n",
       "      <td>16</td>\n",
       "    </tr>\n",
       "  </tbody>\n",
       "</table>\n",
       "</div>"
      ],
      "text/plain": [
       "                                           predictors  train_mse   test_mse  \\\n",
       "15  [X1, X2, X3, X4, X5, X7, X8, X9, X10, X12, X14...  38.181972  40.758948   \n",
       "\n",
       "    no_of_preds  \n",
       "15           16  "
      ]
     },
     "execution_count": 16,
     "metadata": {},
     "output_type": "execute_result"
    }
   ],
   "source": [
    "#query to see which row is it\n",
    "best_models.query('test_mse==40.758948432622034')"
   ]
  },
  {
   "cell_type": "code",
   "execution_count": 17,
   "metadata": {},
   "outputs": [
    {
     "name": "stdout",
     "output_type": "stream",
     "text": [
      "['X1', 'X2', 'X3', 'X4', 'X5', 'X7', 'X8', 'X9', 'X10', 'X12', 'X14', 'X15', 'X16', 'X17', 'X19', 'X20']\n"
     ]
    }
   ],
   "source": [
    "print(best_models['predictors'][15])"
   ]
  },
  {
   "cell_type": "markdown",
   "metadata": {},
   "source": [
    "Test mse is lowest for the model with 16 predictors printed above. Intuitively, the result is very reasonable because X6, X11, X13, and X18's betas were set to zero. This best performing model has successfully filtered out these four predictors."
   ]
  },
  {
   "cell_type": "markdown",
   "metadata": {},
   "source": [
    "6. (10 points) How does the model at which the test set MSE is minimized compare to the true model used to generate the data? Comment on the coefficient sizes."
   ]
  },
  {
   "cell_type": "code",
   "execution_count": 18,
   "metadata": {},
   "outputs": [
    {
     "name": "stdout",
     "output_type": "stream",
     "text": [
      "[5.639540713564799, 8.435963789420452, 3.4627394821106243, 6.908421337997397, 8.853500343403525, 8.410177708398614, 6.277466319336397, 1.8710561256682434, 8.436885994064559, 5.28926355454798, 2.4092359943115196, 8.814554286867667, 10.113892147667748, 1.498535458011384, 5.937400308677046, 6.926707065409724]\n"
     ]
    }
   ],
   "source": [
    "model_min_mse = models[15]\n",
    "#print coefficients of our model\n",
    "coef_model = list(model_min_mse.coef_)\n",
    "print(coef_model)"
   ]
  },
  {
   "cell_type": "code",
   "execution_count": 19,
   "metadata": {},
   "outputs": [
    {
     "name": "stdout",
     "output_type": "stream",
     "text": [
      "[5.601361933044631, 8.349232017980754, 3.387652972402636, 7.121681225467688, 8.810529570762707, 8.478782079472992, 6.348124086150126, 1.8019628167272916, 8.584907324733068, 5.266167681034977, 2.305601794805458, 8.901337186012492, 10.008305328387362, 1.3377266351299806, 5.812968904879149, 7.0090377341267045]\n"
     ]
    }
   ],
   "source": [
    "#print true betas\n",
    "coef_true = list(filter(lambda num: num != 0, beta))\n",
    "print(coef_true)"
   ]
  },
  {
   "cell_type": "code",
   "execution_count": 20,
   "metadata": {},
   "outputs": [],
   "source": [
    "dict_beta = {'Model_Coef':coef_model,'Beta':coef_true}\n",
    "df_beta = pd.DataFrame(dict_beta)"
   ]
  },
  {
   "cell_type": "code",
   "execution_count": 21,
   "metadata": {},
   "outputs": [
    {
     "data": {
      "image/png": "[encoded data removed]",
      "text/plain": [
       "<Figure size 432x288 with 1 Axes>"
      ]
     },
     "metadata": {
      "needs_background": "light"
     },
     "output_type": "display_data"
    }
   ],
   "source": [
    "df_beta.plot();"
   ]
  },
  {
   "cell_type": "markdown",
   "metadata": {},
   "source": [
    "As can be seen from the above graph, our best model's coefficients are very similar to the true betas. "
   ]
  },
  {
   "cell_type": "markdown",
   "metadata": {},
   "source": [
    "7. (10 points) Create a plot displaying $\\sqrt{\\sum_{j=1}^p(\\beta_j - \\hat{\\beta_j^r})^2}$ for a range of values of r, where $\\hat{\\beta_j^r}$ is the jth coefficient estimate for the best model containing r coefficients. Comment on what you observe. How does this compare to the test MSE plot?"
   ]
  },
  {
   "cell_type": "code",
   "execution_count": 28,
   "metadata": {},
   "outputs": [],
   "source": [
    "preds = ['X1', 'X2', 'X3', 'X4', 'X5', 'X6', 'X7', 'X8', 'X9', 'X10', \n",
    "         'X11', 'X12', 'X13', 'X14', 'X15', 'X16', 'X17', 'X18', 'X19', 'X20']"
   ]
  },
  {
   "cell_type": "code",
   "execution_count": 29,
   "metadata": {},
   "outputs": [],
   "source": [
    "#create a dictionary for predictor:beta\n",
    "dict_beta = dict(zip(preds, beta)) "
   ]
  },
  {
   "cell_type": "markdown",
   "metadata": {},
   "source": [
    "Calculate $\\sqrt{\\sum_{j=1}^p(\\beta_j - \\hat{\\beta_j^r})^2}$ :"
   ]
  },
  {
   "cell_type": "code",
   "execution_count": 59,
   "metadata": {},
   "outputs": [],
   "source": [
    "res = []\n",
    "count_model = 0\n",
    "for model in models:\n",
    "    coefs = model.coef_ \n",
    "    sum_j = 0    \n",
    "    for p in preds:\n",
    "        count_pred = 0\n",
    "        bj = dict_beta[p]  \n",
    "        if p not in best_models['predictors'][count_model]:\n",
    "            bjr = 0        \n",
    "        else:\n",
    "            bjr = coefs[count_pred]\n",
    "            count_pred+=1\n",
    "        sum_j += (bj - bjr)**2    \n",
    "    count_model +=1\n",
    "    res.append(sum_j**(1/2))   "
   ]
  },
  {
   "cell_type": "code",
   "execution_count": 60,
   "metadata": {},
   "outputs": [],
   "source": [
    "best_models['beta_diff'] = res"
   ]
  },
  {
   "cell_type": "code",
   "execution_count": 65,
   "metadata": {},
   "outputs": [
    {
     "data": {
      "image/png": "[encoded data removed]",
      "text/plain": [
       "<Figure size 720x360 with 1 Axes>"
      ]
     },
     "metadata": {
      "needs_background": "light"
     },
     "output_type": "display_data"
    }
   ],
   "source": [
    "plt.figure(figsize=(10,5))\n",
    "plt.plot(best_models['no_of_preds'],best_models['beta_diff'], marker='.', color='coral')\n",
    "plt.title('Residual sum of squares vs number of predictors')\n",
    "plt.xlabel('Number of predictors')\n",
    "plt.ylabel('Residual');"
   ]
  },
  {
   "cell_type": "markdown",
   "metadata": {},
   "source": [
    "The trend of this graph is similar to test MSE, we see that residual decreases as number of predictors increase, and then increases after number of predictors exceed 15. Unlike the test MSE plot, We clearly see in this graph that at number of predictors = 15, the residual is the lowest across models. "
   ]
  },
  {
   "cell_type": "markdown",
   "metadata": {},
   "source": [
    "#### Application Exercises "
   ]
  },
  {
   "cell_type": "markdown",
   "metadata": {},
   "source": [
    "*Your task is to construct a series of statistical/machine learning models to accurately predict an individual’s egalitarianism using model selection and regularization methods. Use all the available predictors for each model unless otherwise specified.*"
   ]
  },
  {
   "cell_type": "code",
   "execution_count": 220,
   "metadata": {},
   "outputs": [],
   "source": [
    "gss_train = pd.read_csv('gss_train.csv')\n",
    "gss_test = pd.read_csv('gss_test.csv')"
   ]
  },
  {
   "cell_type": "markdown",
   "metadata": {},
   "source": [
    "1. (10 points) Fit a least squares linear model on the training set, and report the test MSE."
   ]
  },
  {
   "cell_type": "code",
   "execution_count": 221,
   "metadata": {},
   "outputs": [],
   "source": [
    "y_train = gss_train['egalit_scale']\n",
    "y_test = gss_test['egalit_scale']\n",
    "x_train = gss_train.drop('egalit_scale', axis=1)\n",
    "x_test = gss_test.drop('egalit_scale', axis=1)"
   ]
  },
  {
   "cell_type": "code",
   "execution_count": 222,
   "metadata": {},
   "outputs": [],
   "source": [
    "lm = LinearRegression().fit(x_train,y_train)\n",
    "ypred =lm.predict(x_test)"
   ]
  },
  {
   "cell_type": "code",
   "execution_count": 223,
   "metadata": {},
   "outputs": [
    {
     "name": "stdout",
     "output_type": "stream",
     "text": [
      "Test MSE for linaer regression is: 63.21362962301499\n"
     ]
    }
   ],
   "source": [
    "mse = mean_squared_error(y_test, ypred)\n",
    "print(\"Test MSE for linaer regression is:\", mse)"
   ]
  },
  {
   "cell_type": "markdown",
   "metadata": {},
   "source": [
    "2. (10 points) Fit a ridge regression model on the training set, with λ chosen by 10-fold cross-validation.\n",
    "Report the test MSE."
   ]
  },
  {
   "cell_type": "code",
   "execution_count": 224,
   "metadata": {},
   "outputs": [],
   "source": [
    "ridge = RidgeCV(alphas=[0.01, 0.1, 1.0, 10, 50, 100], cv=10).fit(x_train, y_train)"
   ]
  },
  {
   "cell_type": "code",
   "execution_count": 225,
   "metadata": {},
   "outputs": [
    {
     "name": "stdout",
     "output_type": "stream",
     "text": [
      "Test MSE for ridge is: 62.25641082226911\n"
     ]
    }
   ],
   "source": [
    "print(\"Test MSE for ridge is:\", mean_squared_error(y_test, ridge.predict(x_test)))"
   ]
  },
  {
   "cell_type": "code",
   "execution_count": 226,
   "metadata": {},
   "outputs": [
    {
     "data": {
      "text/plain": [
       "0.3910106286999935"
      ]
     },
     "execution_count": 226,
     "metadata": {},
     "output_type": "execute_result"
    }
   ],
   "source": [
    "ridge.score(x_train, y_train)"
   ]
  },
  {
   "cell_type": "markdown",
   "metadata": {},
   "source": [
    "3. (10 points) Fit a lasso regression on the training set, with λ chosen by 10-fold cross-validation. Report the test MSE, along with the number of non-zero coefficient estimates."
   ]
  },
  {
   "cell_type": "code",
   "execution_count": 227,
   "metadata": {},
   "outputs": [],
   "source": [
    "lasso = LassoCV(alphas=[0.01, 0.1, 1.0, 10, 50, 100], cv=10).fit(x_train, y_train)"
   ]
  },
  {
   "cell_type": "code",
   "execution_count": 228,
   "metadata": {},
   "outputs": [
    {
     "name": "stdout",
     "output_type": "stream",
     "text": [
      "Test MSE is for lasso: 62.77841555477389\n"
     ]
    }
   ],
   "source": [
    "print(\"Test MSE is for lasso:\", mean_squared_error(y_test, lasso.predict(x_test)))"
   ]
  },
  {
   "cell_type": "code",
   "execution_count": 229,
   "metadata": {},
   "outputs": [
    {
     "name": "stdout",
     "output_type": "stream",
     "text": [
      "Number of non-zero coefficients for lasso regression =  24\n"
     ]
    }
   ],
   "source": [
    "print(\"Number of non-zero coefficients for lasso regression = \", (lasso.coef_ != 0).sum())"
   ]
  },
  {
   "cell_type": "code",
   "execution_count": 230,
   "metadata": {},
   "outputs": [
    {
     "data": {
      "text/plain": [
       "0.38161120285798467"
      ]
     },
     "execution_count": 230,
     "metadata": {},
     "output_type": "execute_result"
    }
   ],
   "source": [
    "lasso.score(x_train, y_train)"
   ]
  },
  {
   "cell_type": "markdown",
   "metadata": {},
   "source": [
    "4. (10 points) Fit an elastic net regression model on the training set, with α and λ chosen by 10-fold cross-validation. That is, estimate models with α = 0, 0.1, 0.2, . . . , 1 using the same values for λ across each model. Select the combination of α and λ with the lowest cross-validation MSE. For that combination, report the test MSE along with the number of non-zero coefficient estimates."
   ]
  },
  {
   "cell_type": "code",
   "execution_count": 216,
   "metadata": {},
   "outputs": [],
   "source": [
    "elastic = ElasticNetCV(l1_ratio=[0.1, 0.2, 0.3, 0.4, 0.5, 0.6, 0.7, 0.8, 0.9, 1], \n",
    "                       cv=10).fit(x_train, y_train)"
   ]
  },
  {
   "cell_type": "code",
   "execution_count": 231,
   "metadata": {},
   "outputs": [
    {
     "name": "stdout",
     "output_type": "stream",
     "text": [
      "Test MSE for elastic is: 62.7780157899344\n"
     ]
    }
   ],
   "source": [
    "print(\"Test MSE for elastic is:\", mean_squared_error(y_test, elastic.predict(x_test)))"
   ]
  },
  {
   "cell_type": "code",
   "execution_count": 232,
   "metadata": {},
   "outputs": [
    {
     "name": "stdout",
     "output_type": "stream",
     "text": [
      "Number of non-zero coefficients for elastic net regreesion =  24\n"
     ]
    }
   ],
   "source": [
    "print(\"Number of non-zero coefficients for elastic net regreesion = \", \n",
    "      np.array([elastic.coef_ != 0]).sum())"
   ]
  },
  {
   "cell_type": "code",
   "execution_count": 233,
   "metadata": {},
   "outputs": [
    {
     "data": {
      "text/plain": [
       "0.3816218146011686"
      ]
     },
     "execution_count": 233,
     "metadata": {},
     "output_type": "execute_result"
    }
   ],
   "source": [
    "elastic.score(x_train, y_train)"
   ]
  },
  {
   "cell_type": "markdown",
   "metadata": {},
   "source": [
    "5. (5 points) Comment on the results obtained. How accurately can we predict an individual’s egalitarian- ism? Is there much difference among the test errors resulting from these approaches?"
   ]
  },
  {
   "cell_type": "markdown",
   "metadata": {},
   "source": [
    "Thre really isn't much difference between the three different regressions in terms of MSE and accuracy. All three model's test MSE is around 62, which is also not that different from the result of a non-regularized linear regression. In general, we are not predicting individual's egalitarianism very well (training accuracy is less than .40 for all three regularized models). To obtain a higher accuracy we would probably need to change our model entirely to something other than linear regression. "
   ]
  }
 ],
 "metadata": {
  "kernelspec": {
   "display_name": "Python 3",
   "language": "python",
   "name": "python3"
  },
  "language_info": {
   "codemirror_mode": {
    "name": "ipython",
    "version": 3
   },
   "file_extension": ".py",
   "mimetype": "text/x-python",
   "name": "python",
   "nbconvert_exporter": "python",
   "pygments_lexer": "ipython3",
   "version": "3.7.3"
  }
 },
 "nbformat": 4,
 "nbformat_minor": 4
}
